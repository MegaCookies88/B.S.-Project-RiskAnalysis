{
 "cells": [
  {
   "cell_type": "code",
   "execution_count": 40,
   "metadata": {},
   "outputs": [],
   "source": [
    "import pandas as pd\n",
    "import numpy as np\n",
    "from scipy.stats import norm\n",
    "import matplotlib.pyplot as plt\n",
    "\n",
    "# Useful functions\n",
    "def SaveFig(filename):\n",
    "    plt.savefig(r'fig/'+filename)"
   ]
  },
  {
   "cell_type": "code",
   "execution_count": 88,
   "metadata": {},
   "outputs": [],
   "source": [
    "# Call Option Valuation Using Black-Scholes\n",
    "def BS_VCall(S,mu,sigma,K,T):\n",
    "    d1 = (np.log(S/K) + (mu + 1/2 * sigma ** 2) * T) / (sigma * np.sqrt(T))\n",
    "    d2 = d1 - sigma * np.sqrt(T)\n",
    "    C  = S * norm.cdf(d1) - K * norm.cdf(d2) * np.exp(-1 * mu * T)\n",
    "    return round(C,4)\n",
    "\n",
    "# Put Option Valuation Using Black-Scholes\n",
    "def BS_VPut(S,mu,sigma,K,T):\n",
    "    d1 = (np.log(S/K) + (mu + 1/2 * sigma ** 2) * T) / (sigma * np.sqrt(T))\n",
    "    d2 = d1 - sigma * np.sqrt(T)\n",
    "    C  = K * norm.cdf(-1 * d2) * np.exp(-1 * mu * T) - S * norm.cdf(-1 * d1)\n",
    "    return round(C,4)\n",
    "\n",
    "# European Call Option Valuation Using BOPM\n",
    "def BOPM_VCall(S,mu,sigma,K,T,N):\n",
    "    dt = T/N\n",
    "    u  = np.exp(sigma * np.sqrt(dt))\n",
    "    d  = 1./u\n",
    "    p  = (np.exp(mu * dt) - d) / (u - d)\n",
    "    \n",
    "    if(p <= 0 or p>=1):\n",
    "        return -1\n",
    "    \n",
    "    # Call Option Value\n",
    "    C = {}\n",
    "    for m in range(0, N+1):\n",
    "            C[(N, m)] = max(S * (u ** (m)) * (d ** (N-m)) - K, 0)\n",
    "    for k in range(N-1, -1, -1):\n",
    "        for m in range(0,k+1):\n",
    "            C[(k, m)] = np.exp(-mu * dt) * (p * C[(k+1, m+1)] + (1-p) * C[(k+1, m)])\n",
    "            \n",
    "    return round(C[(0,0)],4)\n",
    "\n",
    "# American Put Option Valuation Using BOPM\n",
    "def BOPM_VPut(S,mu,sigma,K,T,N):\n",
    "    dt = T/N\n",
    "    u  = np.exp(sigma * np.sqrt(dt))\n",
    "    d  = 1./u\n",
    "    p  = (np.exp(mu * dt) - d) / (u - d)\n",
    "    \n",
    "    if(p <= 0 or p>=1):\n",
    "        return -1\n",
    "    \n",
    "    # Put Option Binomial Value\n",
    "    C = {}\n",
    "    for m in range(0, N+1):\n",
    "            C[(N, m)] = max(K - S * (u ** (m)) * (d ** (N-m)), 0)\n",
    "    for k in range(N-1, -1, -1):\n",
    "        for m in range(0,k+1):\n",
    "            C[(k, m)] = np.exp(-mu * dt) * (p * C[(k+1, m+1)] + (1-p) * C[(k+1, m)])\n",
    "            C[(k, m)] = max(C[(k, m)], K - S * (u ** (m)) * (d ** (k-m)))\n",
    "            \n",
    "    return round(C[(0,0)],4)"
   ]
  },
  {
   "cell_type": "code",
   "execution_count": 91,
   "metadata": {},
   "outputs": [
    {
     "name": "stdout",
     "output_type": "stream",
     "text": [
      "BOPM Call Value =  4.7598 $\n",
      "BS Call Value   =  4.7594 $\n"
     ]
    }
   ],
   "source": [
    "# European Call Option\n",
    "S     = 42\n",
    "mu    = 0.1\n",
    "sigma = 0.2\n",
    "K     = 40\n",
    "T     = 0.5 # 6 months\n",
    "N     = 1000\n",
    "\n",
    "print('BOPM Call Value = ', BOPM_VCall(S,mu,sigma,K,T,N),'$')\n",
    "print('BS Call Value   = ', BS_VCall(S,mu,sigma,K,T),'$')"
   ]
  },
  {
   "cell_type": "code",
   "execution_count": 38,
   "metadata": {},
   "outputs": [
    {
     "name": "stdout",
     "output_type": "stream",
     "text": [
      "100/200/300/400/500/600/700/800/900/1000/1100/1200/1300/1400/1500/"
     ]
    }
   ],
   "source": [
    "N_max = 1500\n",
    "C = pd.DataFrame(columns=['Steps','Call_Value'])\n",
    "for N in range(20,N_max+1,10):\n",
    "    if(not N % 100) :\n",
    "        print(N, end = '/')\n",
    "    C = C.append({'Steps':N, 'Call_Value':BOPM_VCall(S,mu,sigma,K,T,N)}, ignore_index=True)"
   ]
  },
  {
   "cell_type": "code",
   "execution_count": 39,
   "metadata": {},
   "outputs": [
    {
     "data": {
      "image/png": "[encoded data removed]",
      "text/plain": [
       "<Figure size 720x360 with 1 Axes>"
      ]
     },
     "metadata": {
      "needs_background": "light"
     },
     "output_type": "display_data"
    }
   ],
   "source": [
    "# Convergence Plot\n",
    "plt.figure(figsize = (10, 5))\n",
    "plt.plot(C['Steps'], C['Call_Value'], color='blue', label='Binomial Model')\n",
    "\n",
    "y = 0 * C['Steps'] + BS_VCall(S,mu,sigma,K,T)\n",
    "plt.plot(C['Steps'], y, color='red', label='Black-Scholes Model')\n",
    "\n",
    "plt.xlabel('Number of Steps')\n",
    "plt.ylabel('Call Option Value in $')\n",
    "plt.title('Convergence of the Binomial Model')\n",
    "plt.grid()\n",
    "SaveFig('BOPM-BS-Convergence')\n",
    "plt.show()"
   ]
  },
  {
   "cell_type": "code",
   "execution_count": 92,
   "metadata": {},
   "outputs": [
    {
     "name": "stdout",
     "output_type": "stream",
     "text": [
      "BOPM Put Value =  4.8601 $\n",
      "BS Put Value   =  4.1078 $\n"
     ]
    }
   ],
   "source": [
    "# American Put Option (Early Exercice)\n",
    "S     = 50\n",
    "mu    = 0.05\n",
    "sigma = 0.2\n",
    "K     = 52\n",
    "T     = 2 # in years\n",
    "N     = 1000\n",
    "\n",
    "print('BOPM Put Value = ', BOPM_VPut(S,mu,sigma,K,T,N),'$')\n",
    "print('BS Put Value   = ', BS_VPut(S,mu,sigma,K,T),'$')"
   ]
  },
  {
   "cell_type": "code",
   "execution_count": null,
   "metadata": {},
   "outputs": [],
   "source": []
  }
 ],
 "metadata": {
  "kernelspec": {
   "display_name": "Python 3",
   "language": "python",
   "name": "python3"
  },
  "language_info": {
   "codemirror_mode": {
    "name": "ipython",
    "version": 3
   },
   "file_extension": ".py",
   "mimetype": "text/x-python",
   "name": "python",
   "nbconvert_exporter": "python",
   "pygments_lexer": "ipython3",
   "version": "3.7.4"
  }
 },
 "nbformat": 4,
 "nbformat_minor": 4
}
