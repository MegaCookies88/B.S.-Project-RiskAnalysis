{
 "cells": [
  {
   "cell_type": "code",
   "execution_count": 1,
   "metadata": {},
   "outputs": [
    {
     "name": "stdout",
     "output_type": "stream",
     "text": [
      "Download Complete\n"
     ]
    }
   ],
   "source": [
    "from pandas_datareader import data as pdr\n",
    "from datetime import date\n",
    "import yfinance as yf\n",
    "yf.pdr_override()\n",
    "import pandas as pd\n",
    "import numpy as np\n",
    "import matplotlib.pyplot as plt\n",
    "from scipy import stats\n",
    "import seaborn as sns\n",
    "\n",
    "# Tickers list\n",
    "ticker_list = [\"^DJI\", \"AA\", \"AIG\", \"AXP\", \"BA\", \"C\", \"CAT\", \"DD\", \"DIS\", \"GE\",\n",
    "               \"GM\", \"HD\", \"HON\", \"HPQ\", \"IBM\", \"INTC\", \"JNJ\", \"JPM\", \"KO\", \"MCD\",\n",
    "               \"MMM\", \"MO\", \"MRK\", \"MSFT\", \"PFE\", \"PG\", \"T\", \"UTX\", \"VZ\", \"WMT\", \"XOM\"]\n",
    "\n",
    "# Dates\n",
    "today = date.today()\n",
    "start_date = '2016-1-1'\n",
    "end_date = '2020-1-1'\n",
    "\n",
    "def SaveData(df, filename):\n",
    "    df.to_csv(r'data/'+filename+'.csv')\n",
    "    \n",
    "def GetData(ticker_list):\n",
    "    df=[]\n",
    "    for ticker in ticker_list:\n",
    "        data = pdr.get_data_yahoo(ticker, start=start_date, end=end_date, progress=False)\n",
    "        data['Symbol'] = ticker \n",
    "        df.append(data)\n",
    "    print(\"Download Complete\")\n",
    "    return df\n",
    "\n",
    "# Get the Data\n",
    "df = GetData(ticker_list)\n",
    "df = pd.concat(df)\n",
    "df = df.reset_index()\n",
    "df = df[['Date', 'Adj Close', 'Symbol']]\n",
    "stocks = df.pivot('Date','Symbol','Adj Close').reset_index()"
   ]
  },
  {
   "cell_type": "code",
   "execution_count": 2,
   "metadata": {},
   "outputs": [],
   "source": [
    "# Useful data\n",
    "returns = np.log(stocks[ticker_list]/stocks[ticker_list].shift(1))\n",
    "returns.insert(0,'Date',stocks['Date'])\n",
    "returns = returns.drop([0],axis=0)\n",
    "\n",
    "returns.set_index('Date', inplace=True)\n",
    "returns.index = pd.to_datetime(returns.index)\n",
    "monthly_returns = returns.resample('1M').ffill()\n",
    "\n",
    "# Risk-free Treasury bills 13 months \n",
    "risk_free_rate = 0.029\n",
    "\n",
    "# Computing betas\n",
    "beta = []\n",
    "for ticker in ticker_list:\n",
    "    x = monthly_returns[ticker_list[0]]\n",
    "    y = monthly_returns[ticker]\n",
    "    slope, intercept, r_value, p_value, std_err = stats.linregress(x,y)\n",
    "    beta.append(round(slope,2))\n",
    "\n",
    "beta = pd.DataFrame(beta, columns={'Beta'})\n",
    "beta.index = ticker_list\n",
    "beta['Return'] = round(returns.mean()*252*100,2)\n",
    "\n",
    "SaveData(beta,'beta')"
   ]
  },
  {
   "cell_type": "code",
   "execution_count": null,
   "metadata": {},
   "outputs": [],
   "source": []
  }
 ],
 "metadata": {
  "kernelspec": {
   "display_name": "Python 3",
   "language": "python",
   "name": "python3"
  },
  "language_info": {
   "codemirror_mode": {
    "name": "ipython",
    "version": 3
   },
   "file_extension": ".py",
   "mimetype": "text/x-python",
   "name": "python",
   "nbconvert_exporter": "python",
   "pygments_lexer": "ipython3",
   "version": "3.7.4"
  }
 },
 "nbformat": 4,
 "nbformat_minor": 4
}
